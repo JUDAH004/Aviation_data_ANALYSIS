{
 "cells": [
  {
   "cell_type": "markdown",
   "metadata": {},
   "source": [
    "# AVIATION ACCIDENTS DATA ANALYSIS "
   ]
  },
  {
   "cell_type": "markdown",
   "metadata": {},
   "source": [
    "### Introduction"
   ]
  },
  {
   "cell_type": "markdown",
   "metadata": {},
   "source": [
    "This project aims to analyse data from the National Transport Safety Board(NTSB) on aviation accidents from 1962 to 2023 covering civil aviation accidents and related incidents (select cases in the United States and abroad).Actionable insight from the anaylsed data is to be used by my company to purchase operational airplanes ,with the lowest risks, for both commercial and private endevours.  Data on United States, State codes is also provided for reference."
   ]
  },
  {
   "cell_type": "markdown",
   "metadata": {},
   "source": [
    "### Objectives"
   ]
  },
  {
   "cell_type": "markdown",
   "metadata": {},
   "source": [
    "The objectives for this analysis are as follows:\n",
    "\n",
    "    1. Identify the airplanes models with the highest and lowest accident frequency.\n",
    "\n",
    "    2. Analyze historical aviation data on aviation accidents and incidents to assess risk factors.\n",
    "\n",
    "    3. Provide data-driven recommendations on which airplane models to consider for purchase."
   ]
  },
  {
   "cell_type": "markdown",
   "metadata": {},
   "source": [
    "### Business Understanding"
   ]
  },
  {
   "cell_type": "markdown",
   "metadata": {},
   "source": [
    "As our company expands into new sectors and would like to purchase aircrafts for the cause, assessing aircraft risk is crucial for informed purchases. Several factors affect or influence aviation safety, they include: \n",
    "\n",
    "    1.Aircraft Manufucturer - Some Manufucturers have better safety records compared to others so we can know that by comparing the make and model of different aircrafts.\n",
    "\n",
    "    2.Aircraft accident and incident trends - identify aircrafts that have a trend of either accidents or incidents to know which ones offer a lower risk.\n",
    "\n",
    "    3.Aircraft Damage - identify aircrafts prone to servere damage or substantial damage in occurence of accidents.\n",
    "\n",
    "    4.Injury Severity - evaluation of fatal and non-fatal injuries and on which aircrafts each occur more frequently.\n",
    "\n",
    "    5.Weather Conditions - evaluate how different weather conditions impact risk on different aircrafts. \n",
    "\n",
    "    6.Broad face of flight - determine on which face of flight do most accidents occur,either Takeoff,cruising or landing.\n",
    "\n",
    "    7.Number of Engines - determine how the number of engines impacts risk, are more engines better that one ? ,we will get to evaluate that.\n",
    "\n",
    "By analyzing this factors, we can get to make data-driven recommendations on which airplanes, that offer the lowest risks, to be purchased by the company."
   ]
  },
  {
   "cell_type": "markdown",
   "metadata": {},
   "source": [
    "### Data Understanding"
   ]
  },
  {
   "cell_type": "markdown",
   "metadata": {},
   "source": [
    "##### 1.Loading of the dataset"
   ]
  },
  {
   "cell_type": "code",
   "execution_count": 4,
   "metadata": {},
   "outputs": [],
   "source": [
    "# import necessary libraries\n",
    "import pandas as pd\n",
    "import matplotlib.pyplot as plt\n",
    "import seaborn as sns"
   ]
  },
  {
   "cell_type": "code",
   "execution_count": 5,
   "metadata": {},
   "outputs": [
    {
     "name": "stdout",
     "output_type": "stream",
     "text": [
      "<class 'pandas.core.frame.DataFrame'>\n",
      "RangeIndex: 88889 entries, 0 to 88888\n",
      "Data columns (total 31 columns):\n",
      " #   Column                  Non-Null Count  Dtype  \n",
      "---  ------                  --------------  -----  \n",
      " 0   Event.Id                88889 non-null  object \n",
      " 1   Investigation.Type      88889 non-null  object \n",
      " 2   Accident.Number         88889 non-null  object \n",
      " 3   Event.Date              88889 non-null  object \n",
      " 4   Location                88837 non-null  object \n",
      " 5   Country                 88663 non-null  object \n",
      " 6   Latitude                34382 non-null  object \n",
      " 7   Longitude               34373 non-null  object \n",
      " 8   Airport.Code            50249 non-null  object \n",
      " 9   Airport.Name            52790 non-null  object \n",
      " 10  Injury.Severity         87889 non-null  object \n",
      " 11  Aircraft.damage         85695 non-null  object \n",
      " 12  Aircraft.Category       32287 non-null  object \n",
      " 13  Registration.Number     87572 non-null  object \n",
      " 14  Make                    88826 non-null  object \n",
      " 15  Model                   88797 non-null  object \n",
      " 16  Amateur.Built           88787 non-null  object \n",
      " 17  Number.of.Engines       82805 non-null  float64\n",
      " 18  Engine.Type             81812 non-null  object \n",
      " 19  FAR.Description         32023 non-null  object \n",
      " 20  Schedule                12582 non-null  object \n",
      " 21  Purpose.of.flight       82697 non-null  object \n",
      " 22  Air.carrier             16648 non-null  object \n",
      " 23  Total.Fatal.Injuries    77488 non-null  float64\n",
      " 24  Total.Serious.Injuries  76379 non-null  float64\n",
      " 25  Total.Minor.Injuries    76956 non-null  float64\n",
      " 26  Total.Uninjured         82977 non-null  float64\n",
      " 27  Weather.Condition       84397 non-null  object \n",
      " 28  Broad.phase.of.flight   61724 non-null  object \n",
      " 29  Report.Status           82508 non-null  object \n",
      " 30  Publication.Date        75118 non-null  object \n",
      "dtypes: float64(5), object(26)\n",
      "memory usage: 21.0+ MB\n"
     ]
    },
    {
     "name": "stderr",
     "output_type": "stream",
     "text": [
      "c:\\Users\\JUDAH\\Anaconda3\\envs\\learn-env\\lib\\site-packages\\IPython\\core\\interactiveshell.py:3145: DtypeWarning: Columns (6,7,28) have mixed types.Specify dtype option on import or set low_memory=False.\n",
      "  has_raised = await self.run_ast_nodes(code_ast.body, cell_name,\n"
     ]
    }
   ],
   "source": [
    "Aviation_accidents_df = pd.read_csv('./Data/AviationData.csv' , encoding= 'ISO-8859-1') # Load the dataset using pandas library\n",
    "Aviation_accidents_df.info() # Display general information about the dataset now dataframe"
   ]
  },
  {
   "cell_type": "code",
   "execution_count": 6,
   "metadata": {},
   "outputs": [
    {
     "data": {
      "text/plain": [
       "(88889, 31)"
      ]
     },
     "execution_count": 6,
     "metadata": {},
     "output_type": "execute_result"
    }
   ],
   "source": [
    "Aviation_accidents_df.shape # To show the total number of rows and columns,respectively "
   ]
  },
  {
   "cell_type": "code",
   "execution_count": 7,
   "metadata": {},
   "outputs": [
    {
     "data": {
      "text/html": [
       "<div>\n",
       "<style scoped>\n",
       "    .dataframe tbody tr th:only-of-type {\n",
       "        vertical-align: middle;\n",
       "    }\n",
       "\n",
       "    .dataframe tbody tr th {\n",
       "        vertical-align: top;\n",
       "    }\n",
       "\n",
       "    .dataframe thead th {\n",
       "        text-align: right;\n",
       "    }\n",
       "</style>\n",
       "<table border=\"1\" class=\"dataframe\">\n",
       "  <thead>\n",
       "    <tr style=\"text-align: right;\">\n",
       "      <th></th>\n",
       "      <th>Event.Id</th>\n",
       "      <th>Investigation.Type</th>\n",
       "      <th>Accident.Number</th>\n",
       "      <th>Event.Date</th>\n",
       "      <th>Location</th>\n",
       "      <th>Country</th>\n",
       "      <th>Latitude</th>\n",
       "      <th>Longitude</th>\n",
       "      <th>Airport.Code</th>\n",
       "      <th>Airport.Name</th>\n",
       "      <th>...</th>\n",
       "      <th>Purpose.of.flight</th>\n",
       "      <th>Air.carrier</th>\n",
       "      <th>Total.Fatal.Injuries</th>\n",
       "      <th>Total.Serious.Injuries</th>\n",
       "      <th>Total.Minor.Injuries</th>\n",
       "      <th>Total.Uninjured</th>\n",
       "      <th>Weather.Condition</th>\n",
       "      <th>Broad.phase.of.flight</th>\n",
       "      <th>Report.Status</th>\n",
       "      <th>Publication.Date</th>\n",
       "    </tr>\n",
       "  </thead>\n",
       "  <tbody>\n",
       "    <tr>\n",
       "      <th>0</th>\n",
       "      <td>20001218X45444</td>\n",
       "      <td>Accident</td>\n",
       "      <td>SEA87LA080</td>\n",
       "      <td>1948-10-24</td>\n",
       "      <td>MOOSE CREEK, ID</td>\n",
       "      <td>United States</td>\n",
       "      <td>NaN</td>\n",
       "      <td>NaN</td>\n",
       "      <td>NaN</td>\n",
       "      <td>NaN</td>\n",
       "      <td>...</td>\n",
       "      <td>Personal</td>\n",
       "      <td>NaN</td>\n",
       "      <td>2.0</td>\n",
       "      <td>0.0</td>\n",
       "      <td>0.0</td>\n",
       "      <td>0.0</td>\n",
       "      <td>UNK</td>\n",
       "      <td>Cruise</td>\n",
       "      <td>Probable Cause</td>\n",
       "      <td>NaN</td>\n",
       "    </tr>\n",
       "    <tr>\n",
       "      <th>1</th>\n",
       "      <td>20001218X45447</td>\n",
       "      <td>Accident</td>\n",
       "      <td>LAX94LA336</td>\n",
       "      <td>1962-07-19</td>\n",
       "      <td>BRIDGEPORT, CA</td>\n",
       "      <td>United States</td>\n",
       "      <td>NaN</td>\n",
       "      <td>NaN</td>\n",
       "      <td>NaN</td>\n",
       "      <td>NaN</td>\n",
       "      <td>...</td>\n",
       "      <td>Personal</td>\n",
       "      <td>NaN</td>\n",
       "      <td>4.0</td>\n",
       "      <td>0.0</td>\n",
       "      <td>0.0</td>\n",
       "      <td>0.0</td>\n",
       "      <td>UNK</td>\n",
       "      <td>Unknown</td>\n",
       "      <td>Probable Cause</td>\n",
       "      <td>19-09-1996</td>\n",
       "    </tr>\n",
       "    <tr>\n",
       "      <th>2</th>\n",
       "      <td>20061025X01555</td>\n",
       "      <td>Accident</td>\n",
       "      <td>NYC07LA005</td>\n",
       "      <td>1974-08-30</td>\n",
       "      <td>Saltville, VA</td>\n",
       "      <td>United States</td>\n",
       "      <td>36.9222</td>\n",
       "      <td>-81.8781</td>\n",
       "      <td>NaN</td>\n",
       "      <td>NaN</td>\n",
       "      <td>...</td>\n",
       "      <td>Personal</td>\n",
       "      <td>NaN</td>\n",
       "      <td>3.0</td>\n",
       "      <td>NaN</td>\n",
       "      <td>NaN</td>\n",
       "      <td>NaN</td>\n",
       "      <td>IMC</td>\n",
       "      <td>Cruise</td>\n",
       "      <td>Probable Cause</td>\n",
       "      <td>26-02-2007</td>\n",
       "    </tr>\n",
       "    <tr>\n",
       "      <th>3</th>\n",
       "      <td>20001218X45448</td>\n",
       "      <td>Accident</td>\n",
       "      <td>LAX96LA321</td>\n",
       "      <td>1977-06-19</td>\n",
       "      <td>EUREKA, CA</td>\n",
       "      <td>United States</td>\n",
       "      <td>NaN</td>\n",
       "      <td>NaN</td>\n",
       "      <td>NaN</td>\n",
       "      <td>NaN</td>\n",
       "      <td>...</td>\n",
       "      <td>Personal</td>\n",
       "      <td>NaN</td>\n",
       "      <td>2.0</td>\n",
       "      <td>0.0</td>\n",
       "      <td>0.0</td>\n",
       "      <td>0.0</td>\n",
       "      <td>IMC</td>\n",
       "      <td>Cruise</td>\n",
       "      <td>Probable Cause</td>\n",
       "      <td>12-09-2000</td>\n",
       "    </tr>\n",
       "    <tr>\n",
       "      <th>4</th>\n",
       "      <td>20041105X01764</td>\n",
       "      <td>Accident</td>\n",
       "      <td>CHI79FA064</td>\n",
       "      <td>1979-08-02</td>\n",
       "      <td>Canton, OH</td>\n",
       "      <td>United States</td>\n",
       "      <td>NaN</td>\n",
       "      <td>NaN</td>\n",
       "      <td>NaN</td>\n",
       "      <td>NaN</td>\n",
       "      <td>...</td>\n",
       "      <td>Personal</td>\n",
       "      <td>NaN</td>\n",
       "      <td>1.0</td>\n",
       "      <td>2.0</td>\n",
       "      <td>NaN</td>\n",
       "      <td>0.0</td>\n",
       "      <td>VMC</td>\n",
       "      <td>Approach</td>\n",
       "      <td>Probable Cause</td>\n",
       "      <td>16-04-1980</td>\n",
       "    </tr>\n",
       "  </tbody>\n",
       "</table>\n",
       "<p>5 rows × 31 columns</p>\n",
       "</div>"
      ],
      "text/plain": [
       "         Event.Id Investigation.Type Accident.Number  Event.Date  \\\n",
       "0  20001218X45444           Accident      SEA87LA080  1948-10-24   \n",
       "1  20001218X45447           Accident      LAX94LA336  1962-07-19   \n",
       "2  20061025X01555           Accident      NYC07LA005  1974-08-30   \n",
       "3  20001218X45448           Accident      LAX96LA321  1977-06-19   \n",
       "4  20041105X01764           Accident      CHI79FA064  1979-08-02   \n",
       "\n",
       "          Location        Country Latitude Longitude Airport.Code  \\\n",
       "0  MOOSE CREEK, ID  United States      NaN       NaN          NaN   \n",
       "1   BRIDGEPORT, CA  United States      NaN       NaN          NaN   \n",
       "2    Saltville, VA  United States  36.9222  -81.8781          NaN   \n",
       "3       EUREKA, CA  United States      NaN       NaN          NaN   \n",
       "4       Canton, OH  United States      NaN       NaN          NaN   \n",
       "\n",
       "  Airport.Name  ... Purpose.of.flight Air.carrier Total.Fatal.Injuries  \\\n",
       "0          NaN  ...          Personal         NaN                  2.0   \n",
       "1          NaN  ...          Personal         NaN                  4.0   \n",
       "2          NaN  ...          Personal         NaN                  3.0   \n",
       "3          NaN  ...          Personal         NaN                  2.0   \n",
       "4          NaN  ...          Personal         NaN                  1.0   \n",
       "\n",
       "  Total.Serious.Injuries Total.Minor.Injuries Total.Uninjured  \\\n",
       "0                    0.0                  0.0             0.0   \n",
       "1                    0.0                  0.0             0.0   \n",
       "2                    NaN                  NaN             NaN   \n",
       "3                    0.0                  0.0             0.0   \n",
       "4                    2.0                  NaN             0.0   \n",
       "\n",
       "  Weather.Condition  Broad.phase.of.flight   Report.Status Publication.Date  \n",
       "0               UNK                 Cruise  Probable Cause              NaN  \n",
       "1               UNK                Unknown  Probable Cause       19-09-1996  \n",
       "2               IMC                 Cruise  Probable Cause       26-02-2007  \n",
       "3               IMC                 Cruise  Probable Cause       12-09-2000  \n",
       "4               VMC               Approach  Probable Cause       16-04-1980  \n",
       "\n",
       "[5 rows x 31 columns]"
      ]
     },
     "execution_count": 7,
     "metadata": {},
     "output_type": "execute_result"
    }
   ],
   "source": [
    "Aviation_accidents_df.head() # To show the first five rows"
   ]
  },
  {
   "cell_type": "markdown",
   "metadata": {},
   "source": [
    "##### 2. Data exploration\n",
    "Look for duplicate and missing values; if any are found, they will either be filled in or removed based on how important they are to the project.We'll eliminate duplicate values.From the data exploration we will be able to narrow down to what specific data we will use for analysis,by data, i mean columns,the columns we will use for the analysis and visualization."
   ]
  },
  {
   "cell_type": "code",
   "execution_count": 8,
   "metadata": {},
   "outputs": [
    {
     "data": {
      "text/plain": [
       "Event.Id                      0\n",
       "Investigation.Type            0\n",
       "Accident.Number               0\n",
       "Event.Date                    0\n",
       "Location                     52\n",
       "Country                     226\n",
       "Latitude                  54507\n",
       "Longitude                 54516\n",
       "Airport.Code              38640\n",
       "Airport.Name              36099\n",
       "Injury.Severity            1000\n",
       "Aircraft.damage            3194\n",
       "Aircraft.Category         56602\n",
       "Registration.Number        1317\n",
       "Make                         63\n",
       "Model                        92\n",
       "Amateur.Built               102\n",
       "Number.of.Engines          6084\n",
       "Engine.Type                7077\n",
       "FAR.Description           56866\n",
       "Schedule                  76307\n",
       "Purpose.of.flight          6192\n",
       "Air.carrier               72241\n",
       "Total.Fatal.Injuries      11401\n",
       "Total.Serious.Injuries    12510\n",
       "Total.Minor.Injuries      11933\n",
       "Total.Uninjured            5912\n",
       "Weather.Condition          4492\n",
       "Broad.phase.of.flight     27165\n",
       "Report.Status              6381\n",
       "Publication.Date          13771\n",
       "dtype: int64"
      ]
     },
     "execution_count": 8,
     "metadata": {},
     "output_type": "execute_result"
    }
   ],
   "source": [
    "Aviation_accidents_df.isnull().sum() # To check on the number of missing values per column"
   ]
  },
  {
   "cell_type": "code",
   "execution_count": 9,
   "metadata": {},
   "outputs": [
    {
     "data": {
      "text/plain": [
       "0"
      ]
     },
     "execution_count": 9,
     "metadata": {},
     "output_type": "execute_result"
    }
   ],
   "source": [
    "Aviation_accidents_df.duplicated() # To check for duplicated Rows\n",
    "Aviation_accidents_df.duplicated().sum() # To check number of duplicated rows , if return is 0 ,there are no duplicated rows."
   ]
  },
  {
   "cell_type": "markdown",
   "metadata": {},
   "source": [
    "### Data Cleaning and Preparation.\n",
    "In this stage, we will need to clean and prepare the data before analysis.We achieve this by:\n",
    "\n",
    "    A.Handle missing values\n",
    "    -We will check columns with missing values and decide on whether to fill or drop them.\n",
    "\n",
    "    B.Handle duplicated values\n",
    "    -Since no duplicated values were found in the data exploration stage of the data, we are good to go.\n",
    "\n",
    "    C.Filter unnecessary columns\n",
    "    -We will have to remove columns that may not be of so much help for risk assessment.\n",
    "\n",
    "    D. Convert data types\n",
    "    -If need be we will have to convert some variables to correct format i.e Converting of date column to datetime format.\n"
   ]
  },
  {
   "cell_type": "markdown",
   "metadata": {},
   "source": [
    "##### A.Handle missing data"
   ]
  },
  {
   "cell_type": "markdown",
   "metadata": {},
   "source": [
    "1.Drop columns with more than 50% missing values.\n",
    "The following columns have alot of mising values and might not aid in our analysis:\n",
    "\n",
    "###### Aircraft.Category (56,602 missing)\n",
    "\n",
    "###### FAR.Description (56,866 missing)\n",
    "\n",
    "###### Schedule (76,307 missing)\n",
    "\n",
    "###### Air.carrier (72,241 missing)\n",
    "\n",
    "###### Latitude (54507 missing)\n",
    "\n",
    "###### Longitude (54516 missing)\n",
    "\n",
    "So it is best that we drop them."
   ]
  },
  {
   "cell_type": "code",
   "execution_count": 10,
   "metadata": {},
   "outputs": [],
   "source": [
    "Aviation_accidents_df.drop(columns = ['Aircraft.Category', 'FAR.Description', 'Schedule', 'Air.carrier' , 'Latitude' ,'Longitude'] , inplace = True) # Drop the columns that will not be neeeded in the analysis and have alot of missing values"
   ]
  },
  {
   "cell_type": "code",
   "execution_count": 11,
   "metadata": {},
   "outputs": [
    {
     "data": {
      "text/plain": [
       "Event.Id                      0\n",
       "Investigation.Type            0\n",
       "Accident.Number               0\n",
       "Event.Date                    0\n",
       "Location                     52\n",
       "Country                     226\n",
       "Airport.Code              38640\n",
       "Airport.Name              36099\n",
       "Injury.Severity            1000\n",
       "Aircraft.damage            3194\n",
       "Registration.Number        1317\n",
       "Make                         63\n",
       "Model                        92\n",
       "Amateur.Built               102\n",
       "Number.of.Engines          6084\n",
       "Engine.Type                7077\n",
       "Purpose.of.flight          6192\n",
       "Total.Fatal.Injuries      11401\n",
       "Total.Serious.Injuries    12510\n",
       "Total.Minor.Injuries      11933\n",
       "Total.Uninjured            5912\n",
       "Weather.Condition          4492\n",
       "Broad.phase.of.flight     27165\n",
       "Report.Status              6381\n",
       "Publication.Date          13771\n",
       "dtype: int64"
      ]
     },
     "execution_count": 11,
     "metadata": {},
     "output_type": "execute_result"
    }
   ],
   "source": [
    "Aviation_accidents_df.isnull().sum() # Check for the remaining missing values"
   ]
  },
  {
   "cell_type": "markdown",
   "metadata": {},
   "source": [
    "2. For the country column, we can check the most frequent country appearing then fill the missing values in country with the most frequent country.Then for the missing values in the location column we can fill with 'Unknown' for now."
   ]
  },
  {
   "cell_type": "code",
   "execution_count": 12,
   "metadata": {},
   "outputs": [
    {
     "data": {
      "text/plain": [
       "0    United States\n",
       "dtype: object"
      ]
     },
     "execution_count": 12,
     "metadata": {},
     "output_type": "execute_result"
    }
   ],
   "source": [
    "most_common_country = Aviation_accidents_df['Country'].mode()# Get most frequently occuring country in the data\n",
    "most_common_country"
   ]
  },
  {
   "cell_type": "code",
   "execution_count": 13,
   "metadata": {},
   "outputs": [],
   "source": [
    "Aviation_accidents_df['Country'].fillna('United States', inplace= True) # Fill missing country values with the most occuring country in the data"
   ]
  },
  {
   "cell_type": "code",
   "execution_count": 14,
   "metadata": {},
   "outputs": [],
   "source": [
    "Aviation_accidents_df['Location'].fillna('Unknown' , inplace = True) # Fill missing location values with 'Unknown'"
   ]
  },
  {
   "cell_type": "code",
   "execution_count": 15,
   "metadata": {},
   "outputs": [
    {
     "data": {
      "text/plain": [
       "Event.Id                      0\n",
       "Investigation.Type            0\n",
       "Accident.Number               0\n",
       "Event.Date                    0\n",
       "Location                      0\n",
       "Country                       0\n",
       "Airport.Code              38640\n",
       "Airport.Name              36099\n",
       "Injury.Severity            1000\n",
       "Aircraft.damage            3194\n",
       "Registration.Number        1317\n",
       "Make                         63\n",
       "Model                        92\n",
       "Amateur.Built               102\n",
       "Number.of.Engines          6084\n",
       "Engine.Type                7077\n",
       "Purpose.of.flight          6192\n",
       "Total.Fatal.Injuries      11401\n",
       "Total.Serious.Injuries    12510\n",
       "Total.Minor.Injuries      11933\n",
       "Total.Uninjured            5912\n",
       "Weather.Condition          4492\n",
       "Broad.phase.of.flight     27165\n",
       "Report.Status              6381\n",
       "Publication.Date          13771\n",
       "dtype: int64"
      ]
     },
     "execution_count": 15,
     "metadata": {},
     "output_type": "execute_result"
    }
   ],
   "source": [
    "Aviation_accidents_df.isna().sum() # Check for missing values"
   ]
  },
  {
   "cell_type": "markdown",
   "metadata": {},
   "source": [
    "3. Since 'Make' and 'Model' are of key importance, we can not fill them with just any data but what we can do is drop the rows where 'Make' and 'Model' are missing values."
   ]
  },
  {
   "cell_type": "code",
   "execution_count": 16,
   "metadata": {},
   "outputs": [],
   "source": [
    "Aviation_accidents_df = Aviation_accidents_df.loc[Aviation_accidents_df['Make'].notna() & Aviation_accidents_df['Model'].notna()] # By doing this we keep only the rows where both Make and Model are not missing.\n"
   ]
  },
  {
   "cell_type": "code",
   "execution_count": 17,
   "metadata": {},
   "outputs": [
    {
     "data": {
      "text/plain": [
       "Event.Id                      0\n",
       "Investigation.Type            0\n",
       "Accident.Number               0\n",
       "Event.Date                    0\n",
       "Location                      0\n",
       "Country                       0\n",
       "Airport.Code              38564\n",
       "Airport.Name              36031\n",
       "Injury.Severity             979\n",
       "Aircraft.damage            3172\n",
       "Registration.Number        1275\n",
       "Make                          0\n",
       "Model                         0\n",
       "Amateur.Built                99\n",
       "Number.of.Engines          6023\n",
       "Engine.Type                7006\n",
       "Purpose.of.flight          6138\n",
       "Total.Fatal.Injuries      11386\n",
       "Total.Serious.Injuries    12490\n",
       "Total.Minor.Injuries      11914\n",
       "Total.Uninjured            5897\n",
       "Weather.Condition          4439\n",
       "Broad.phase.of.flight     27094\n",
       "Report.Status              6335\n",
       "Publication.Date          13765\n",
       "dtype: int64"
      ]
     },
     "execution_count": 17,
     "metadata": {},
     "output_type": "execute_result"
    }
   ],
   "source": [
    "Aviation_accidents_df.isna().sum() # Check for missing values"
   ]
  },
  {
   "cell_type": "markdown",
   "metadata": {},
   "source": [
    "3. Fill missing values for aircraft information(Number of Engines and Engine type).We will replace the missing values for these Aircraft information with 'Unknown'."
   ]
  },
  {
   "cell_type": "code",
   "execution_count": 18,
   "metadata": {},
   "outputs": [],
   "source": [
    "Aviation_accidents_df['Number.of.Engines'].fillna(\"Unknown\", inplace= True)# Fill 'Number.of.Engines' missing values with 'Unknown'\n",
    "Aviation_accidents_df['Engine.Type'].fillna(\"Unknown\", inplace= True)# Fill 'Engine.Type' missing values with 'Unknown'"
   ]
  },
  {
   "cell_type": "code",
   "execution_count": 19,
   "metadata": {},
   "outputs": [
    {
     "data": {
      "text/plain": [
       "Event.Id                      0\n",
       "Investigation.Type            0\n",
       "Accident.Number               0\n",
       "Event.Date                    0\n",
       "Location                      0\n",
       "Country                       0\n",
       "Airport.Code              38564\n",
       "Airport.Name              36031\n",
       "Injury.Severity             979\n",
       "Aircraft.damage            3172\n",
       "Registration.Number        1275\n",
       "Make                          0\n",
       "Model                         0\n",
       "Amateur.Built                99\n",
       "Number.of.Engines             0\n",
       "Engine.Type                   0\n",
       "Purpose.of.flight          6138\n",
       "Total.Fatal.Injuries      11386\n",
       "Total.Serious.Injuries    12490\n",
       "Total.Minor.Injuries      11914\n",
       "Total.Uninjured            5897\n",
       "Weather.Condition          4439\n",
       "Broad.phase.of.flight     27094\n",
       "Report.Status              6335\n",
       "Publication.Date          13765\n",
       "dtype: int64"
      ]
     },
     "execution_count": 19,
     "metadata": {},
     "output_type": "execute_result"
    }
   ],
   "source": [
    "Aviation_accidents_df.isna().sum() # Check for missing values"
   ]
  },
  {
   "cell_type": "markdown",
   "metadata": {},
   "source": [
    "4. For injury Data if there is missing value we assume that they were zero injuries for the specific column.Therefore we replace the missing values with a zero(0)."
   ]
  },
  {
   "cell_type": "code",
   "execution_count": 20,
   "metadata": {},
   "outputs": [],
   "source": [
    "injury_columns = ['Total.Fatal.Injuries', 'Total.Serious.Injuries', 'Total.Minor.Injuries', 'Total.Uninjured']# Compile injury data to a variable called injury_columns \n",
    "Aviation_accidents_df[injury_columns] = Aviation_accidents_df[injury_columns].fillna(0)# Fill missing data of injury_columns with 0(Zero)"
   ]
  },
  {
   "cell_type": "code",
   "execution_count": 21,
   "metadata": {},
   "outputs": [
    {
     "data": {
      "text/plain": [
       "Event.Id                      0\n",
       "Investigation.Type            0\n",
       "Accident.Number               0\n",
       "Event.Date                    0\n",
       "Location                      0\n",
       "Country                       0\n",
       "Airport.Code              38564\n",
       "Airport.Name              36031\n",
       "Injury.Severity             979\n",
       "Aircraft.damage            3172\n",
       "Registration.Number        1275\n",
       "Make                          0\n",
       "Model                         0\n",
       "Amateur.Built                99\n",
       "Number.of.Engines             0\n",
       "Engine.Type                   0\n",
       "Purpose.of.flight          6138\n",
       "Total.Fatal.Injuries          0\n",
       "Total.Serious.Injuries        0\n",
       "Total.Minor.Injuries          0\n",
       "Total.Uninjured               0\n",
       "Weather.Condition          4439\n",
       "Broad.phase.of.flight     27094\n",
       "Report.Status              6335\n",
       "Publication.Date          13765\n",
       "dtype: int64"
      ]
     },
     "execution_count": 21,
     "metadata": {},
     "output_type": "execute_result"
    }
   ],
   "source": [
    "Aviation_accidents_df.isna().sum() # Check for missing values"
   ]
  },
  {
   "cell_type": "markdown",
   "metadata": {},
   "source": [
    "5. Remove columns for airport details(Airport.Code & Airport.Name) as they will not be needed for the analysis."
   ]
  },
  {
   "cell_type": "code",
   "execution_count": 22,
   "metadata": {},
   "outputs": [],
   "source": [
    "Aviation_accidents_df.drop(columns=['Airport.Name' , 'Airport.Code'] , inplace= True) # Drop columns"
   ]
  },
  {
   "cell_type": "code",
   "execution_count": 23,
   "metadata": {},
   "outputs": [
    {
     "data": {
      "text/plain": [
       "Event.Id                      0\n",
       "Investigation.Type            0\n",
       "Accident.Number               0\n",
       "Event.Date                    0\n",
       "Location                      0\n",
       "Country                       0\n",
       "Injury.Severity             979\n",
       "Aircraft.damage            3172\n",
       "Registration.Number        1275\n",
       "Make                          0\n",
       "Model                         0\n",
       "Amateur.Built                99\n",
       "Number.of.Engines             0\n",
       "Engine.Type                   0\n",
       "Purpose.of.flight          6138\n",
       "Total.Fatal.Injuries          0\n",
       "Total.Serious.Injuries        0\n",
       "Total.Minor.Injuries          0\n",
       "Total.Uninjured               0\n",
       "Weather.Condition          4439\n",
       "Broad.phase.of.flight     27094\n",
       "Report.Status              6335\n",
       "Publication.Date          13765\n",
       "dtype: int64"
      ]
     },
     "execution_count": 23,
     "metadata": {},
     "output_type": "execute_result"
    }
   ],
   "source": [
    "Aviation_accidents_df.isna().sum() # Check for missing values"
   ]
  },
  {
   "cell_type": "markdown",
   "metadata": {},
   "source": [
    "6.Check columns on 'Injury.Severity' ,if data is missing it may only indicate that it was not recorded.Thus replace missing value with 'Unknown'."
   ]
  },
  {
   "cell_type": "code",
   "execution_count": 24,
   "metadata": {},
   "outputs": [],
   "source": [
    "Aviation_accidents_df['Injury.Severity'].fillna(\"Unknown\", inplace=True)# Replace missing values with 'Unknown'"
   ]
  },
  {
   "cell_type": "code",
   "execution_count": 25,
   "metadata": {},
   "outputs": [
    {
     "data": {
      "text/plain": [
       "Event.Id                      0\n",
       "Investigation.Type            0\n",
       "Accident.Number               0\n",
       "Event.Date                    0\n",
       "Location                      0\n",
       "Country                       0\n",
       "Injury.Severity               0\n",
       "Aircraft.damage            3172\n",
       "Registration.Number        1275\n",
       "Make                          0\n",
       "Model                         0\n",
       "Amateur.Built                99\n",
       "Number.of.Engines             0\n",
       "Engine.Type                   0\n",
       "Purpose.of.flight          6138\n",
       "Total.Fatal.Injuries          0\n",
       "Total.Serious.Injuries        0\n",
       "Total.Minor.Injuries          0\n",
       "Total.Uninjured               0\n",
       "Weather.Condition          4439\n",
       "Broad.phase.of.flight     27094\n",
       "Report.Status              6335\n",
       "Publication.Date          13765\n",
       "dtype: int64"
      ]
     },
     "execution_count": 25,
     "metadata": {},
     "output_type": "execute_result"
    }
   ],
   "source": [
    "Aviation_accidents_df.isna().sum()# Check for missing values"
   ]
  },
  {
   "cell_type": "markdown",
   "metadata": {},
   "source": [
    "7. For missing data in 'Aircraft.Damage' it is assumed that data was not recorded,so rather that writing 'No damage' , we will fill missing data with 'Unknown'"
   ]
  },
  {
   "cell_type": "code",
   "execution_count": 26,
   "metadata": {},
   "outputs": [],
   "source": [
    "Aviation_accidents_df['Aircraft.damage'].fillna('Unknown', inplace=True)# Fill missing values with 'Unknown'\n"
   ]
  },
  {
   "cell_type": "code",
   "execution_count": 27,
   "metadata": {},
   "outputs": [
    {
     "data": {
      "text/plain": [
       "Event.Id                      0\n",
       "Investigation.Type            0\n",
       "Accident.Number               0\n",
       "Event.Date                    0\n",
       "Location                      0\n",
       "Country                       0\n",
       "Injury.Severity               0\n",
       "Aircraft.damage               0\n",
       "Registration.Number        1275\n",
       "Make                          0\n",
       "Model                         0\n",
       "Amateur.Built                99\n",
       "Number.of.Engines             0\n",
       "Engine.Type                   0\n",
       "Purpose.of.flight          6138\n",
       "Total.Fatal.Injuries          0\n",
       "Total.Serious.Injuries        0\n",
       "Total.Minor.Injuries          0\n",
       "Total.Uninjured               0\n",
       "Weather.Condition          4439\n",
       "Broad.phase.of.flight     27094\n",
       "Report.Status              6335\n",
       "Publication.Date          13765\n",
       "dtype: int64"
      ]
     },
     "execution_count": 27,
     "metadata": {},
     "output_type": "execute_result"
    }
   ],
   "source": [
    "Aviation_accidents_df.isna().sum()# Check for missing values"
   ]
  },
  {
   "cell_type": "markdown",
   "metadata": {},
   "source": [
    "8. Registration Number is the unique Identification of the aircraft, Some of it has missing values which could indicate that it might be a data entry issue or an unregistered aircraft,which is quite unlikely.So we shall fill the missing values with 'Unknown' for now."
   ]
  },
  {
   "cell_type": "code",
   "execution_count": 28,
   "metadata": {},
   "outputs": [],
   "source": [
    "Aviation_accidents_df['Registration.Number'].fillna('Unknown' , inplace =True)# Fill missing values with 'Unknown'"
   ]
  },
  {
   "cell_type": "code",
   "execution_count": 29,
   "metadata": {},
   "outputs": [
    {
     "data": {
      "text/plain": [
       "Event.Id                      0\n",
       "Investigation.Type            0\n",
       "Accident.Number               0\n",
       "Event.Date                    0\n",
       "Location                      0\n",
       "Country                       0\n",
       "Injury.Severity               0\n",
       "Aircraft.damage               0\n",
       "Registration.Number           0\n",
       "Make                          0\n",
       "Model                         0\n",
       "Amateur.Built                99\n",
       "Number.of.Engines             0\n",
       "Engine.Type                   0\n",
       "Purpose.of.flight          6138\n",
       "Total.Fatal.Injuries          0\n",
       "Total.Serious.Injuries        0\n",
       "Total.Minor.Injuries          0\n",
       "Total.Uninjured               0\n",
       "Weather.Condition          4439\n",
       "Broad.phase.of.flight     27094\n",
       "Report.Status              6335\n",
       "Publication.Date          13765\n",
       "dtype: int64"
      ]
     },
     "execution_count": 29,
     "metadata": {},
     "output_type": "execute_result"
    }
   ],
   "source": [
    "Aviation_accidents_df.isna().sum()# check for missing values"
   ]
  },
  {
   "cell_type": "markdown",
   "metadata": {},
   "source": [
    "9. Amature.Build column indicates whether or not an aircraft was home built/ experimental or not.For missing values in this category, we will substitute missing values with 'Unknown'."
   ]
  },
  {
   "cell_type": "code",
   "execution_count": 30,
   "metadata": {},
   "outputs": [],
   "source": [
    "Aviation_accidents_df['Amateur.Built'].fillna('Unknown', inplace=True)# Fill missing values with 'Unknown'"
   ]
  },
  {
   "cell_type": "code",
   "execution_count": 31,
   "metadata": {},
   "outputs": [
    {
     "data": {
      "text/plain": [
       "Event.Id                      0\n",
       "Investigation.Type            0\n",
       "Accident.Number               0\n",
       "Event.Date                    0\n",
       "Location                      0\n",
       "Country                       0\n",
       "Injury.Severity               0\n",
       "Aircraft.damage               0\n",
       "Registration.Number           0\n",
       "Make                          0\n",
       "Model                         0\n",
       "Amateur.Built                 0\n",
       "Number.of.Engines             0\n",
       "Engine.Type                   0\n",
       "Purpose.of.flight          6138\n",
       "Total.Fatal.Injuries          0\n",
       "Total.Serious.Injuries        0\n",
       "Total.Minor.Injuries          0\n",
       "Total.Uninjured               0\n",
       "Weather.Condition          4439\n",
       "Broad.phase.of.flight     27094\n",
       "Report.Status              6335\n",
       "Publication.Date          13765\n",
       "dtype: int64"
      ]
     },
     "execution_count": 31,
     "metadata": {},
     "output_type": "execute_result"
    }
   ],
   "source": [
    "Aviation_accidents_df.isna().sum()# check for missing values"
   ]
  },
  {
   "cell_type": "markdown",
   "metadata": {},
   "source": [
    "10. Purpose.of.Flight column states the reason why the aircraft took off. We will fill the missing values with 'Unknown' because it is of importance and it is best fill it with that to avoid biasness if we fill it with a specific reason other than its original reason that we do not know."
   ]
  },
  {
   "cell_type": "code",
   "execution_count": 32,
   "metadata": {},
   "outputs": [],
   "source": [
    "Aviation_accidents_df['Purpose.of.flight'].fillna('Unknown', inplace=True)# Fill missing values with 'Unknown'"
   ]
  },
  {
   "cell_type": "code",
   "execution_count": 33,
   "metadata": {},
   "outputs": [
    {
     "data": {
      "text/plain": [
       "Event.Id                      0\n",
       "Investigation.Type            0\n",
       "Accident.Number               0\n",
       "Event.Date                    0\n",
       "Location                      0\n",
       "Country                       0\n",
       "Injury.Severity               0\n",
       "Aircraft.damage               0\n",
       "Registration.Number           0\n",
       "Make                          0\n",
       "Model                         0\n",
       "Amateur.Built                 0\n",
       "Number.of.Engines             0\n",
       "Engine.Type                   0\n",
       "Purpose.of.flight             0\n",
       "Total.Fatal.Injuries          0\n",
       "Total.Serious.Injuries        0\n",
       "Total.Minor.Injuries          0\n",
       "Total.Uninjured               0\n",
       "Weather.Condition          4439\n",
       "Broad.phase.of.flight     27094\n",
       "Report.Status              6335\n",
       "Publication.Date          13765\n",
       "dtype: int64"
      ]
     },
     "execution_count": 33,
     "metadata": {},
     "output_type": "execute_result"
    }
   ],
   "source": [
    "Aviation_accidents_df.isna().sum()# check for missing values"
   ]
  },
  {
   "cell_type": "markdown",
   "metadata": {},
   "source": [
    "11.Weather.Conditions.This column tells us if the weather was VMC (Visual) or IMC (Instrument).We shall fill the missing values in that column with 'Unknown'"
   ]
  },
  {
   "cell_type": "code",
   "execution_count": 34,
   "metadata": {},
   "outputs": [],
   "source": [
    "Aviation_accidents_df['Weather.Condition'].fillna('Unknown', inplace=True)# Fill missing values with 'Unknown'"
   ]
  },
  {
   "cell_type": "code",
   "execution_count": 35,
   "metadata": {},
   "outputs": [
    {
     "data": {
      "text/plain": [
       "Event.Id                      0\n",
       "Investigation.Type            0\n",
       "Accident.Number               0\n",
       "Event.Date                    0\n",
       "Location                      0\n",
       "Country                       0\n",
       "Injury.Severity               0\n",
       "Aircraft.damage               0\n",
       "Registration.Number           0\n",
       "Make                          0\n",
       "Model                         0\n",
       "Amateur.Built                 0\n",
       "Number.of.Engines             0\n",
       "Engine.Type                   0\n",
       "Purpose.of.flight             0\n",
       "Total.Fatal.Injuries          0\n",
       "Total.Serious.Injuries        0\n",
       "Total.Minor.Injuries          0\n",
       "Total.Uninjured               0\n",
       "Weather.Condition             0\n",
       "Broad.phase.of.flight     27094\n",
       "Report.Status              6335\n",
       "Publication.Date          13765\n",
       "dtype: int64"
      ]
     },
     "execution_count": 35,
     "metadata": {},
     "output_type": "execute_result"
    }
   ],
   "source": [
    "Aviation_accidents_df.isna().sum()# check for missing values"
   ]
  },
  {
   "cell_type": "markdown",
   "metadata": {},
   "source": [
    "12. Broad.phase.of.Flight.Describes when the accident took place, at which phase of the aircrafts journey.We shall fill missing values in this column with 'Unknown'"
   ]
  },
  {
   "cell_type": "code",
   "execution_count": 36,
   "metadata": {},
   "outputs": [],
   "source": [
    "Aviation_accidents_df['Broad.phase.of.flight'].fillna('Unknown', inplace=True)# Fill missing values with 'Unknown'"
   ]
  },
  {
   "cell_type": "code",
   "execution_count": 37,
   "metadata": {},
   "outputs": [
    {
     "data": {
      "text/plain": [
       "Event.Id                      0\n",
       "Investigation.Type            0\n",
       "Accident.Number               0\n",
       "Event.Date                    0\n",
       "Location                      0\n",
       "Country                       0\n",
       "Injury.Severity               0\n",
       "Aircraft.damage               0\n",
       "Registration.Number           0\n",
       "Make                          0\n",
       "Model                         0\n",
       "Amateur.Built                 0\n",
       "Number.of.Engines             0\n",
       "Engine.Type                   0\n",
       "Purpose.of.flight             0\n",
       "Total.Fatal.Injuries          0\n",
       "Total.Serious.Injuries        0\n",
       "Total.Minor.Injuries          0\n",
       "Total.Uninjured               0\n",
       "Weather.Condition             0\n",
       "Broad.phase.of.flight         0\n",
       "Report.Status              6335\n",
       "Publication.Date          13765\n",
       "dtype: int64"
      ]
     },
     "execution_count": 37,
     "metadata": {},
     "output_type": "execute_result"
    }
   ],
   "source": [
    "Aviation_accidents_df.isna().sum()# check for missing values"
   ]
  },
  {
   "cell_type": "markdown",
   "metadata": {},
   "source": [
    "13. Report.Status.Since the report status has an outcome that is recurring , I opt to fill the missing values with the mode(most frequent value) of the column.To ensure data consistency."
   ]
  },
  {
   "cell_type": "code",
   "execution_count": 38,
   "metadata": {},
   "outputs": [
    {
     "data": {
      "text/plain": [
       "0    Probable Cause\n",
       "dtype: object"
      ]
     },
     "execution_count": 38,
     "metadata": {},
     "output_type": "execute_result"
    }
   ],
   "source": [
    "most_common_status = Aviation_accidents_df['Report.Status'].mode()# Get most frequent value\n",
    "most_common_status"
   ]
  },
  {
   "cell_type": "code",
   "execution_count": 39,
   "metadata": {},
   "outputs": [],
   "source": [
    "Aviation_accidents_df['Report.Status'].fillna('Probable Cause' , inplace= True)# Fill missing values with the most frequent value"
   ]
  },
  {
   "cell_type": "code",
   "execution_count": 40,
   "metadata": {},
   "outputs": [
    {
     "data": {
      "text/plain": [
       "Event.Id                      0\n",
       "Investigation.Type            0\n",
       "Accident.Number               0\n",
       "Event.Date                    0\n",
       "Location                      0\n",
       "Country                       0\n",
       "Injury.Severity               0\n",
       "Aircraft.damage               0\n",
       "Registration.Number           0\n",
       "Make                          0\n",
       "Model                         0\n",
       "Amateur.Built                 0\n",
       "Number.of.Engines             0\n",
       "Engine.Type                   0\n",
       "Purpose.of.flight             0\n",
       "Total.Fatal.Injuries          0\n",
       "Total.Serious.Injuries        0\n",
       "Total.Minor.Injuries          0\n",
       "Total.Uninjured               0\n",
       "Weather.Condition             0\n",
       "Broad.phase.of.flight         0\n",
       "Report.Status                 0\n",
       "Publication.Date          13765\n",
       "dtype: int64"
      ]
     },
     "execution_count": 40,
     "metadata": {},
     "output_type": "execute_result"
    }
   ],
   "source": [
    "Aviation_accidents_df.isna().sum()# check for missing values|"
   ]
  },
  {
   "cell_type": "markdown",
   "metadata": {},
   "source": [
    "14. Publication.Date. Since we have the event date the publication date may not be of importance to out data analysis,so we can drop it."
   ]
  },
  {
   "cell_type": "code",
   "execution_count": 41,
   "metadata": {},
   "outputs": [],
   "source": [
    "Aviation_accidents_df.drop(columns=['Publication.Date'] , inplace= True)# Drop Column"
   ]
  },
  {
   "cell_type": "code",
   "execution_count": 42,
   "metadata": {},
   "outputs": [
    {
     "data": {
      "text/plain": [
       "Event.Id                  0\n",
       "Investigation.Type        0\n",
       "Accident.Number           0\n",
       "Event.Date                0\n",
       "Location                  0\n",
       "Country                   0\n",
       "Injury.Severity           0\n",
       "Aircraft.damage           0\n",
       "Registration.Number       0\n",
       "Make                      0\n",
       "Model                     0\n",
       "Amateur.Built             0\n",
       "Number.of.Engines         0\n",
       "Engine.Type               0\n",
       "Purpose.of.flight         0\n",
       "Total.Fatal.Injuries      0\n",
       "Total.Serious.Injuries    0\n",
       "Total.Minor.Injuries      0\n",
       "Total.Uninjured           0\n",
       "Weather.Condition         0\n",
       "Broad.phase.of.flight     0\n",
       "Report.Status             0\n",
       "dtype: int64"
      ]
     },
     "execution_count": 42,
     "metadata": {},
     "output_type": "execute_result"
    }
   ],
   "source": [
    "Aviation_accidents_df.isna().sum()# check for missing values"
   ]
  },
  {
   "cell_type": "markdown",
   "metadata": {},
   "source": [
    "##### B. Handle Duplicates."
   ]
  },
  {
   "cell_type": "markdown",
   "metadata": {},
   "source": [
    "Since no duplicated rows are present in the data, we are clear to continue with data exploration and preparation before analysis."
   ]
  },
  {
   "cell_type": "markdown",
   "metadata": {},
   "source": [
    "##### C. Filtering unnecessary Columns"
   ]
  },
  {
   "cell_type": "markdown",
   "metadata": {},
   "source": [
    "Since not all columns will be important for assessing of risk factor,We can drop them as seen above in the Handling of missing values section."
   ]
  },
  {
   "cell_type": "markdown",
   "metadata": {},
   "source": [
    "##### D. Convert data types\n",
    "If need be we will have to convert some variables to correct format."
   ]
  },
  {
   "cell_type": "code",
   "execution_count": 43,
   "metadata": {},
   "outputs": [],
   "source": [
    "# Convert Event.Date to Datetime Format\n",
    "Aviation_accidents_df['Event.Date'] = pd.to_datetime(Aviation_accidents_df['Event.Date'], errors='coerce')# Convert to correct format"
   ]
  },
  {
   "cell_type": "markdown",
   "metadata": {},
   "source": [
    "### Data Analysis"
   ]
  },
  {
   "cell_type": "markdown",
   "metadata": {},
   "source": [
    "Now lets start to analyze the data to identify risk factors and trends in aviation accidents"
   ]
  },
  {
   "cell_type": "markdown",
   "metadata": {},
   "source": [
    "First and foremost lets do a basic analysis to get a baseline.Lets start with the following:"
   ]
  },
  {
   "cell_type": "markdown",
   "metadata": {},
   "source": [
    "1. Find the number of unique aircraft models"
   ]
  },
  {
   "cell_type": "code",
   "execution_count": 44,
   "metadata": {},
   "outputs": [
    {
     "data": {
      "text/plain": [
       "12311"
      ]
     },
     "execution_count": 44,
     "metadata": {},
     "output_type": "execute_result"
    }
   ],
   "source": [
    "Aviation_accidents_df['Model'].nunique() # Find how many different types of aircrafts are involved in accidents "
   ]
  },
  {
   "cell_type": "markdown",
   "metadata": {},
   "source": [
    "2. Find the most frequent aircraft models involved in accidents"
   ]
  },
  {
   "cell_type": "code",
   "execution_count": 45,
   "metadata": {},
   "outputs": [
    {
     "data": {
      "text/plain": [
       "152                     2367\n",
       "172                     1756\n",
       "172N                    1164\n",
       "PA-28-140                932\n",
       "150                      829\n",
       "                        ... \n",
       "AT 4 LSA                   1\n",
       "ARION LIGHTNING LS-1       1\n",
       "47G3-B2A                   1\n",
       "Mustang                    1\n",
       "Allegro                    1\n",
       "Name: Model, Length: 12311, dtype: int64"
      ]
     },
     "execution_count": 45,
     "metadata": {},
     "output_type": "execute_result"
    }
   ],
   "source": [
    "Aviation_accidents_df['Model'].value_counts()# count of different aircraft models involved in accidents"
   ]
  },
  {
   "cell_type": "code",
   "execution_count": 46,
   "metadata": {},
   "outputs": [
    {
     "data": {
      "text/plain": [
       "152          2367\n",
       "172          1756\n",
       "172N         1164\n",
       "PA-28-140     932\n",
       "150           829\n",
       "172M          798\n",
       "172P          689\n",
       "182           659\n",
       "180           622\n",
       "150M          585\n",
       "Name: Model, dtype: int64"
      ]
     },
     "execution_count": 46,
     "metadata": {},
     "output_type": "execute_result"
    }
   ],
   "source": [
    "Aviation_accidents_df['Model'].value_counts().head(10)# lets narrow down to Top 10 aircraft models involved in  aviation accidents"
   ]
  },
  {
   "cell_type": "markdown",
   "metadata": {},
   "source": [
    "As we can see above Model 152 has the highest number of recorded aviation accidents followed by Model 172 and so on and so forth.So lets check the models with the least recorded aviation accidents."
   ]
  },
  {
   "cell_type": "code",
   "execution_count": 47,
   "metadata": {},
   "outputs": [
    {
     "data": {
      "text/plain": [
       "JW9L                    1\n",
       "DO-24                   1\n",
       "GLASSAIRE               1\n",
       "PA-28R200               1\n",
       "PDQ-2                   1\n",
       "                       ..\n",
       "AT 4 LSA                1\n",
       "ARION LIGHTNING LS-1    1\n",
       "47G3-B2A                1\n",
       "Mustang                 1\n",
       "Allegro                 1\n",
       "Name: Model, Length: 100, dtype: int64"
      ]
     },
     "execution_count": 47,
     "metadata": {},
     "output_type": "execute_result"
    }
   ],
   "source": [
    "Aviation_accidents_df['Model'].value_counts().tail(100)#Lets narrow down to Bottom 10 aircraft models involved in aviation accidents"
   ]
  },
  {
   "cell_type": "markdown",
   "metadata": {},
   "source": [
    "3. Find aircraft manufactures whose aircrafts have the most accidents or incidents."
   ]
  },
  {
   "cell_type": "code",
   "execution_count": 48,
   "metadata": {},
   "outputs": [
    {
     "data": {
      "text/plain": [
       "Cessna     22226\n",
       "Piper      12029\n",
       "CESSNA      4919\n",
       "Beech       4330\n",
       "PIPER       2840\n",
       "Bell        2134\n",
       "Boeing      1593\n",
       "BOEING      1145\n",
       "Grumman     1094\n",
       "Mooney      1092\n",
       "Name: Make, dtype: int64"
      ]
     },
     "execution_count": 48,
     "metadata": {},
     "output_type": "execute_result"
    }
   ],
   "source": [
    "Aviation_accidents_df['Make'].value_counts().head(10)# Top 10 aircraft manufucturers that experience the most accidents and incidents\n"
   ]
  },
  {
   "cell_type": "markdown",
   "metadata": {},
   "source": [
    "4. Check whether number of engines affect risk. We can check this by comparing number of engines to injuries delt(fatal)"
   ]
  },
  {
   "cell_type": "code",
   "execution_count": 49,
   "metadata": {},
   "outputs": [
    {
     "data": {
      "text/plain": [
       "Number.of.Engines\n",
       "0.0          409.0\n",
       "1.0        22107.0\n",
       "2.0        10518.0\n",
       "3.0          878.0\n",
       "4.0         1666.0\n",
       "6.0            0.0\n",
       "8.0            0.0\n",
       "Unknown    14536.0\n",
       "Name: Total.Fatal.Injuries, dtype: float64"
      ]
     },
     "execution_count": 49,
     "metadata": {},
     "output_type": "execute_result"
    }
   ],
   "source": [
    "Aviation_accidents_df.groupby('Number.of.Engines')['Total.Fatal.Injuries'].sum()"
   ]
  },
  {
   "cell_type": "markdown",
   "metadata": {},
   "source": [
    "Lets make a visualization showing how number of engine affect risk factor."
   ]
  },
  {
   "cell_type": "code",
   "execution_count": null,
   "metadata": {},
   "outputs": [
    {
     "data": {
      "image/png": "[encoded data removed]",
      "text/plain": [
       "<Figure size 720x432 with 1 Axes>"
      ]
     },
     "metadata": {
      "needs_background": "light"
     },
     "output_type": "display_data"
    }
   ],
   "source": [
    "filtered_df = Aviation_accidents_df[(Aviation_accidents_df['Number.of.Engines'].notna()) & Aviation_accidents_df['Number.of.Engines'] > 0]# Filters the Number.of.Engines values in that we plot only the values that are present, not missing that will be labelled as 'Unknown' nor  zero values\n",
    "\n",
    "engine_risk = filtered_df.groupby('Number.of.Engines')['Total.Fatal.Injuries'].sum()# Group by number of engines and sum fatal injuries\n",
    "\n",
    "# Plot bar chart\n",
    "plt.figure(figsize=(10, 6))\n",
    "sns.barplot(x=engine_risk.index, y=engine_risk.values, color= 'lightblue' )\n",
    "plt.xlabel(\"Number of Engines\")\n",
    "plt.ylabel(\"Total Fatal Injuries\")\n",
    "plt.title(\"Fatal Injuries by Number of Engines\")\n",
    "plt.show()\n"
   ]
  },
  {
   "cell_type": "markdown",
   "metadata": {},
   "source": [
    "From the bar graph above,It is clear that  with single engines are more riskier compared to aircrafts with multiple engines.It visually noted that engines with 3 engines recorded the least number of aircraft accidents."
   ]
  },
  {
   "cell_type": "code",
   "execution_count": 51,
   "metadata": {},
   "outputs": [
    {
     "data": {
      "text/plain": [
       "Non-Fatal     67305\n",
       "Fatal(1)       6159\n",
       "Fatal          5248\n",
       "Fatal(2)       3703\n",
       "Incident       2214\n",
       "              ...  \n",
       "Fatal(138)        1\n",
       "Fatal(229)        1\n",
       "Fatal(230)        1\n",
       "Fatal(78)         1\n",
       "Fatal(125)        1\n",
       "Name: Injury.Severity, Length: 110, dtype: int64"
      ]
     },
     "execution_count": 51,
     "metadata": {},
     "output_type": "execute_result"
    }
   ],
   "source": [
    "Aviation_accidents_df['Injury.Severity'].value_counts()"
   ]
  },
  {
   "cell_type": "code",
   "execution_count": 110,
   "metadata": {},
   "outputs": [
    {
     "data": {
      "text/plain": [
       "Injury.Severity  Make                       \n",
       "Fatal            CESSNA                         959\n",
       "                 PIPER                          638\n",
       "                 BEECH                          329\n",
       "                 BELL                           168\n",
       "                 ROBINSON                       157\n",
       "                 Cessna                         150\n",
       "                 Piper                          106\n",
       "                 MOONEY                          75\n",
       "                 CIRRUS DESIGN CORP              68\n",
       "                 Beech                           54\n",
       "                 BOEING                          42\n",
       "                 AIR TRACTOR INC                 40\n",
       "                 AIR TRACTOR                     36\n",
       "                 EUROCOPTER                      34\n",
       "                 CIRRUS                          31\n",
       "                 HUGHES                          31\n",
       "                 ROBINSON HELICOPTER             31\n",
       "                 SOCATA                          28\n",
       "                 ROBINSON HELICOPTER COMPANY     26\n",
       "                 Bell                            25\n",
       "Name: Make, dtype: int64"
      ]
     },
     "execution_count": 110,
     "metadata": {},
     "output_type": "execute_result"
    }
   ],
   "source": [
    "Aviation_accidents_df.groupby('Injury.Severity')['Make'].value_counts().head(20)"
   ]
  },
  {
   "cell_type": "markdown",
   "metadata": {},
   "source": [
    "As depicted above 'Cessna' aircraft manufucturer has recorded the most number of fatal accidents,but there is something to note,Cessna might record a large number of fatal accidents but the main reason why it is so may be because of its large fleet size and they could still be more safer compared to another aircraft manufucturer that still experiences a large number of accidents with a small fleet size."
   ]
  },
  {
   "cell_type": "code",
   "execution_count": 157,
   "metadata": {},
   "outputs": [
    {
     "data": {
      "image/png": "[encoded data removed]",
      "text/plain": [
       "<Figure size 2160x1800 with 1 Axes>"
      ]
     },
     "metadata": {
      "needs_background": "light"
     },
     "output_type": "display_data"
    }
   ],
   "source": [
    "#Top 50 most frequent aircraft models in accidents\n",
    "top_models = Aviation_accidents_df['Model'].value_counts().head(50)\n",
    "# Plot bar chart\n",
    "plt.figure(figsize=(30, 25))\n",
    "sns.barplot(x=top_models.values, y=top_models.index, color='Red')\n",
    "plt.xlabel(\"Number of Accidents\" ,fontsize = 15)\n",
    "plt.ylabel(\"Aircraft Model\" , fontsize = 15)\n",
    "plt.xticks(fontsize=20)\n",
    "plt.yticks(fontsize=20)\n",
    "plt.title(\"Top 20 Aircraft Models in Accidents\" , fontsize = 15)\n",
    "plt.show()\n"
   ]
  },
  {
   "cell_type": "code",
   "execution_count": 165,
   "metadata": {},
   "outputs": [
    {
     "data": {
      "image/png": "[encoded data removed]",
      "text/plain": [
       "<Figure size 2160x1800 with 1 Axes>"
      ]
     },
     "metadata": {
      "needs_background": "light"
     },
     "output_type": "display_data"
    }
   ],
   "source": [
    "# Top 10 most frequent aircraft manufuctures involved  in accidents\n",
    "top_make = Aviation_accidents_df['Make'].value_counts().head(10)\n",
    "# Plot bar chart\n",
    "plt.figure(figsize=(30, 25))\n",
    "sns.barplot(x= top_make.values, y= top_make.index, color= 'Blue' )\n",
    "plt.xlabel(\"Number of Accidents\" , fontsize= 20)\n",
    "plt.ylabel(\"Aircraft Make\" , fontsize= 20)\n",
    "plt.xticks(fontsize= 20)\n",
    "plt.yticks(fontsize= 20)\n",
    "plt.title(\"Top 10 Aircraft Make in Accidents\" , fontsize= 18)\n",
    "plt.show()\n"
   ]
  },
  {
   "cell_type": "markdown",
   "metadata": {},
   "source": [
    "Cessna hold the first position as the leading aircraft manufucturer with the most number of aircraft accidents,this could be also because they may have a greater fleet size.This is why we shall dive further down to investigate individual models of each manufucturer that have been involved in aviation accidents for a more detailed risk assessment."
   ]
  },
  {
   "cell_type": "code",
   "execution_count": 163,
   "metadata": {},
   "outputs": [
    {
     "data": {
      "text/html": [
       "<div>\n",
       "<style scoped>\n",
       "    .dataframe tbody tr th:only-of-type {\n",
       "        vertical-align: middle;\n",
       "    }\n",
       "\n",
       "    .dataframe tbody tr th {\n",
       "        vertical-align: top;\n",
       "    }\n",
       "\n",
       "    .dataframe thead th {\n",
       "        text-align: right;\n",
       "    }\n",
       "</style>\n",
       "<table border=\"1\" class=\"dataframe\">\n",
       "  <thead>\n",
       "    <tr style=\"text-align: right;\">\n",
       "      <th></th>\n",
       "      <th>Make</th>\n",
       "      <th>Model</th>\n",
       "      <th>Number_of_accidents</th>\n",
       "    </tr>\n",
       "  </thead>\n",
       "  <tbody>\n",
       "    <tr>\n",
       "      <th>5745</th>\n",
       "      <td>Cessna</td>\n",
       "      <td>152</td>\n",
       "      <td>2168</td>\n",
       "    </tr>\n",
       "    <tr>\n",
       "      <th>5767</th>\n",
       "      <td>Cessna</td>\n",
       "      <td>172</td>\n",
       "      <td>1254</td>\n",
       "    </tr>\n",
       "    <tr>\n",
       "      <th>5811</th>\n",
       "      <td>Cessna</td>\n",
       "      <td>172N</td>\n",
       "      <td>996</td>\n",
       "    </tr>\n",
       "    <tr>\n",
       "      <th>15079</th>\n",
       "      <td>Piper</td>\n",
       "      <td>PA-28-140</td>\n",
       "      <td>812</td>\n",
       "    </tr>\n",
       "    <tr>\n",
       "      <th>5720</th>\n",
       "      <td>Cessna</td>\n",
       "      <td>150</td>\n",
       "      <td>716</td>\n",
       "    </tr>\n",
       "    <tr>\n",
       "      <th>5809</th>\n",
       "      <td>Cessna</td>\n",
       "      <td>172M</td>\n",
       "      <td>667</td>\n",
       "    </tr>\n",
       "    <tr>\n",
       "      <th>5814</th>\n",
       "      <td>Cessna</td>\n",
       "      <td>172P</td>\n",
       "      <td>597</td>\n",
       "    </tr>\n",
       "    <tr>\n",
       "      <th>14973</th>\n",
       "      <td>Piper</td>\n",
       "      <td>PA-18</td>\n",
       "      <td>539</td>\n",
       "    </tr>\n",
       "    <tr>\n",
       "      <th>5744</th>\n",
       "      <td>Cessna</td>\n",
       "      <td>150M</td>\n",
       "      <td>539</td>\n",
       "    </tr>\n",
       "    <tr>\n",
       "      <th>15088</th>\n",
       "      <td>Piper</td>\n",
       "      <td>PA-28-161</td>\n",
       "      <td>502</td>\n",
       "    </tr>\n",
       "    <tr>\n",
       "      <th>4906</th>\n",
       "      <td>CESSNA</td>\n",
       "      <td>172</td>\n",
       "      <td>499</td>\n",
       "    </tr>\n",
       "    <tr>\n",
       "      <th>15089</th>\n",
       "      <td>Piper</td>\n",
       "      <td>PA-28-180</td>\n",
       "      <td>499</td>\n",
       "    </tr>\n",
       "    <tr>\n",
       "      <th>5844</th>\n",
       "      <td>Cessna</td>\n",
       "      <td>180</td>\n",
       "      <td>494</td>\n",
       "    </tr>\n",
       "    <tr>\n",
       "      <th>15096</th>\n",
       "      <td>Piper</td>\n",
       "      <td>PA-28-181</td>\n",
       "      <td>476</td>\n",
       "    </tr>\n",
       "    <tr>\n",
       "      <th>5866</th>\n",
       "      <td>Cessna</td>\n",
       "      <td>182</td>\n",
       "      <td>464</td>\n",
       "    </tr>\n",
       "    <tr>\n",
       "      <th>15230</th>\n",
       "      <td>Piper</td>\n",
       "      <td>PA-38-112</td>\n",
       "      <td>444</td>\n",
       "    </tr>\n",
       "    <tr>\n",
       "      <th>14981</th>\n",
       "      <td>Piper</td>\n",
       "      <td>PA-18-150</td>\n",
       "      <td>437</td>\n",
       "    </tr>\n",
       "    <tr>\n",
       "      <th>2303</th>\n",
       "      <td>BOEING</td>\n",
       "      <td>737</td>\n",
       "      <td>435</td>\n",
       "    </tr>\n",
       "    <tr>\n",
       "      <th>3463</th>\n",
       "      <td>Bell</td>\n",
       "      <td>206B</td>\n",
       "      <td>421</td>\n",
       "    </tr>\n",
       "    <tr>\n",
       "      <th>5743</th>\n",
       "      <td>Cessna</td>\n",
       "      <td>150L</td>\n",
       "      <td>410</td>\n",
       "    </tr>\n",
       "    <tr>\n",
       "      <th>9770</th>\n",
       "      <td>Grumman</td>\n",
       "      <td>G-164A</td>\n",
       "      <td>353</td>\n",
       "    </tr>\n",
       "    <tr>\n",
       "      <th>15184</th>\n",
       "      <td>Piper</td>\n",
       "      <td>PA-32-300</td>\n",
       "      <td>325</td>\n",
       "    </tr>\n",
       "    <tr>\n",
       "      <th>5717</th>\n",
       "      <td>Cessna</td>\n",
       "      <td>140</td>\n",
       "      <td>321</td>\n",
       "    </tr>\n",
       "    <tr>\n",
       "      <th>15048</th>\n",
       "      <td>Piper</td>\n",
       "      <td>PA-24-250</td>\n",
       "      <td>310</td>\n",
       "    </tr>\n",
       "    <tr>\n",
       "      <th>5766</th>\n",
       "      <td>Cessna</td>\n",
       "      <td>170B</td>\n",
       "      <td>309</td>\n",
       "    </tr>\n",
       "    <tr>\n",
       "      <th>15032</th>\n",
       "      <td>Piper</td>\n",
       "      <td>PA-23-250</td>\n",
       "      <td>296</td>\n",
       "    </tr>\n",
       "    <tr>\n",
       "      <th>15125</th>\n",
       "      <td>Piper</td>\n",
       "      <td>PA-28R-200</td>\n",
       "      <td>294</td>\n",
       "    </tr>\n",
       "    <tr>\n",
       "      <th>3046</th>\n",
       "      <td>Beech</td>\n",
       "      <td>A36</td>\n",
       "      <td>293</td>\n",
       "    </tr>\n",
       "    <tr>\n",
       "      <th>5895</th>\n",
       "      <td>Cessna</td>\n",
       "      <td>182P</td>\n",
       "      <td>293</td>\n",
       "    </tr>\n",
       "    <tr>\n",
       "      <th>6145</th>\n",
       "      <td>Cessna</td>\n",
       "      <td>A188B</td>\n",
       "      <td>286</td>\n",
       "    </tr>\n",
       "  </tbody>\n",
       "</table>\n",
       "</div>"
      ],
      "text/plain": [
       "          Make       Model  Number_of_accidents\n",
       "5745    Cessna         152                 2168\n",
       "5767    Cessna         172                 1254\n",
       "5811    Cessna        172N                  996\n",
       "15079    Piper   PA-28-140                  812\n",
       "5720    Cessna         150                  716\n",
       "5809    Cessna        172M                  667\n",
       "5814    Cessna        172P                  597\n",
       "14973    Piper       PA-18                  539\n",
       "5744    Cessna        150M                  539\n",
       "15088    Piper   PA-28-161                  502\n",
       "4906    CESSNA         172                  499\n",
       "15089    Piper   PA-28-180                  499\n",
       "5844    Cessna         180                  494\n",
       "15096    Piper   PA-28-181                  476\n",
       "5866    Cessna         182                  464\n",
       "15230    Piper   PA-38-112                  444\n",
       "14981    Piper   PA-18-150                  437\n",
       "2303    BOEING         737                  435\n",
       "3463      Bell        206B                  421\n",
       "5743    Cessna        150L                  410\n",
       "9770   Grumman      G-164A                  353\n",
       "15184    Piper   PA-32-300                  325\n",
       "5717    Cessna         140                  321\n",
       "15048    Piper   PA-24-250                  310\n",
       "5766    Cessna        170B                  309\n",
       "15032    Piper   PA-23-250                  296\n",
       "15125    Piper  PA-28R-200                  294\n",
       "3046     Beech         A36                  293\n",
       "5895    Cessna        182P                  293\n",
       "6145    Cessna       A188B                  286"
      ]
     },
     "execution_count": 163,
     "metadata": {},
     "output_type": "execute_result"
    }
   ],
   "source": [
    "# Count number of accidents per make and model\n",
    "accidents_per_make_model = Aviation_accidents_df.groupby(['Make', 'Model']).size().reset_index(name='Number_of_accidents')\n",
    "\n",
    "# Sort to see highest number of accidents first\n",
    "accidents_by_make_model = accidents_per_make_model.sort_values(by= 'Number_of_accidents', ascending= False)\n",
    "\n",
    "# Check top 30 makes and models with the most number of accidents\n",
    "accidents_by_make_model.head(30)"
   ]
  },
  {
   "cell_type": "markdown",
   "metadata": {},
   "source": [
    "As we can see above breaking  down the models by make we can see that Model '152' by Make 'Cessna' recorded the most number of accidents.This comparison of accidents by model alongside make gives a clear insight to what specific aircrafts recorded to be involved in aviation accidents and how many accidents to be precise.Which is really helpful in risk assessment."
   ]
  },
  {
   "cell_type": "code",
   "execution_count": null,
   "metadata": {},
   "outputs": [
    {
     "data": {
      "image/png": "[encoded data removed]",
      "text/plain": [
       "<Figure size 1800x1440 with 1 Axes>"
      ]
     },
     "metadata": {
      "needs_background": "light"
     },
     "output_type": "display_data"
    }
   ],
   "source": [
    "plt.figure(figsize=(25, 20))# Pot a bargraph showing accidents by make and model \n",
    "sns.barplot(data=accidents_by_make_model.head(35), x=\"Number_of_accidents\", y=\"Model\", hue=\"Make\", palette=\"coolwarm\" , linewidth=2)\n",
    "plt.xlabel(\"Number of Accidents\")\n",
    "plt.ylabel(\"Aircraft Model\")\n",
    "plt.title(\"Top 35 Aircraft Models with Most Accidents by Manufacturer\")\n",
    "plt.legend(title=\"Make\")\n",
    "plt.show()\n"
   ]
  },
  {
   "cell_type": "code",
   "execution_count": 164,
   "metadata": {},
   "outputs": [
    {
     "data": {
      "text/html": [
       "<div>\n",
       "<style scoped>\n",
       "    .dataframe tbody tr th:only-of-type {\n",
       "        vertical-align: middle;\n",
       "    }\n",
       "\n",
       "    .dataframe tbody tr th {\n",
       "        vertical-align: top;\n",
       "    }\n",
       "\n",
       "    .dataframe thead th {\n",
       "        text-align: right;\n",
       "    }\n",
       "</style>\n",
       "<table border=\"1\" class=\"dataframe\">\n",
       "  <thead>\n",
       "    <tr style=\"text-align: right;\">\n",
       "      <th></th>\n",
       "      <th>Make</th>\n",
       "      <th>Model</th>\n",
       "      <th>Number_of_accidents</th>\n",
       "    </tr>\n",
       "  </thead>\n",
       "  <tbody>\n",
       "    <tr>\n",
       "      <th>4114</th>\n",
       "      <td>Boeing</td>\n",
       "      <td>747SP-21</td>\n",
       "      <td>2</td>\n",
       "    </tr>\n",
       "    <tr>\n",
       "      <th>4116</th>\n",
       "      <td>Boeing</td>\n",
       "      <td>75</td>\n",
       "      <td>2</td>\n",
       "    </tr>\n",
       "    <tr>\n",
       "      <th>4130</th>\n",
       "      <td>Boeing</td>\n",
       "      <td>757-24APF</td>\n",
       "      <td>2</td>\n",
       "    </tr>\n",
       "    <tr>\n",
       "      <th>12857</th>\n",
       "      <td>Maule</td>\n",
       "      <td>M4-220C</td>\n",
       "      <td>2</td>\n",
       "    </tr>\n",
       "    <tr>\n",
       "      <th>4137</th>\n",
       "      <td>Boeing</td>\n",
       "      <td>757-33N</td>\n",
       "      <td>2</td>\n",
       "    </tr>\n",
       "    <tr>\n",
       "      <th>12848</th>\n",
       "      <td>Maule</td>\n",
       "      <td>M-7-260</td>\n",
       "      <td>2</td>\n",
       "    </tr>\n",
       "    <tr>\n",
       "      <th>4138</th>\n",
       "      <td>Boeing</td>\n",
       "      <td>75A</td>\n",
       "      <td>2</td>\n",
       "    </tr>\n",
       "    <tr>\n",
       "      <th>4143</th>\n",
       "      <td>Boeing</td>\n",
       "      <td>767-201</td>\n",
       "      <td>2</td>\n",
       "    </tr>\n",
       "    <tr>\n",
       "      <th>4146</th>\n",
       "      <td>Boeing</td>\n",
       "      <td>767-223</td>\n",
       "      <td>2</td>\n",
       "    </tr>\n",
       "    <tr>\n",
       "      <th>4149</th>\n",
       "      <td>Boeing</td>\n",
       "      <td>767-231</td>\n",
       "      <td>2</td>\n",
       "    </tr>\n",
       "    <tr>\n",
       "      <th>4150</th>\n",
       "      <td>Boeing</td>\n",
       "      <td>767-231ER</td>\n",
       "      <td>2</td>\n",
       "    </tr>\n",
       "    <tr>\n",
       "      <th>4166</th>\n",
       "      <td>Boeing</td>\n",
       "      <td>767-322ER</td>\n",
       "      <td>2</td>\n",
       "    </tr>\n",
       "    <tr>\n",
       "      <th>12839</th>\n",
       "      <td>Maule</td>\n",
       "      <td>M-5-235-C</td>\n",
       "      <td>2</td>\n",
       "    </tr>\n",
       "    <tr>\n",
       "      <th>4168</th>\n",
       "      <td>Boeing</td>\n",
       "      <td>767-323ER</td>\n",
       "      <td>2</td>\n",
       "    </tr>\n",
       "    <tr>\n",
       "      <th>12836</th>\n",
       "      <td>Maule</td>\n",
       "      <td>M-5-210TC</td>\n",
       "      <td>2</td>\n",
       "    </tr>\n",
       "    <tr>\n",
       "      <th>12830</th>\n",
       "      <td>Maule</td>\n",
       "      <td>M-5-180</td>\n",
       "      <td>2</td>\n",
       "    </tr>\n",
       "    <tr>\n",
       "      <th>4194</th>\n",
       "      <td>Boeing</td>\n",
       "      <td>A 75N1</td>\n",
       "      <td>2</td>\n",
       "    </tr>\n",
       "    <tr>\n",
       "      <th>12734</th>\n",
       "      <td>Manville</td>\n",
       "      <td>AVID FLYER</td>\n",
       "      <td>2</td>\n",
       "    </tr>\n",
       "    <tr>\n",
       "      <th>12696</th>\n",
       "      <td>MXR TECHNOLOGIES</td>\n",
       "      <td>MX2</td>\n",
       "      <td>2</td>\n",
       "    </tr>\n",
       "    <tr>\n",
       "      <th>12894</th>\n",
       "      <td>Maule</td>\n",
       "      <td>MX7-235</td>\n",
       "      <td>2</td>\n",
       "    </tr>\n",
       "    <tr>\n",
       "      <th>12900</th>\n",
       "      <td>Maule</td>\n",
       "      <td>MXT-7-180</td>\n",
       "      <td>2</td>\n",
       "    </tr>\n",
       "    <tr>\n",
       "      <th>12916</th>\n",
       "      <td>Mayala</td>\n",
       "      <td>DRAGONFLY</td>\n",
       "      <td>2</td>\n",
       "    </tr>\n",
       "    <tr>\n",
       "      <th>4028</th>\n",
       "      <td>Boeing</td>\n",
       "      <td>737-3M8</td>\n",
       "      <td>2</td>\n",
       "    </tr>\n",
       "    <tr>\n",
       "      <th>3977</th>\n",
       "      <td>Boeing</td>\n",
       "      <td>727-30C</td>\n",
       "      <td>2</td>\n",
       "    </tr>\n",
       "    <tr>\n",
       "      <th>13072</th>\n",
       "      <td>Mcdonnell Douglas</td>\n",
       "      <td>DC-9-50</td>\n",
       "      <td>2</td>\n",
       "    </tr>\n",
       "    <tr>\n",
       "      <th>3993</th>\n",
       "      <td>Boeing</td>\n",
       "      <td>737-204</td>\n",
       "      <td>2</td>\n",
       "    </tr>\n",
       "    <tr>\n",
       "      <th>4004</th>\n",
       "      <td>Boeing</td>\n",
       "      <td>737-282</td>\n",
       "      <td>2</td>\n",
       "    </tr>\n",
       "    <tr>\n",
       "      <th>4013</th>\n",
       "      <td>Boeing</td>\n",
       "      <td>737-2X6C</td>\n",
       "      <td>2</td>\n",
       "    </tr>\n",
       "    <tr>\n",
       "      <th>4021</th>\n",
       "      <td>Boeing</td>\n",
       "      <td>737-347</td>\n",
       "      <td>2</td>\n",
       "    </tr>\n",
       "    <tr>\n",
       "      <th>13055</th>\n",
       "      <td>Mcdonnell Douglas</td>\n",
       "      <td>DC-8-63</td>\n",
       "      <td>2</td>\n",
       "    </tr>\n",
       "    <tr>\n",
       "      <th>13048</th>\n",
       "      <td>Mcdonnell Douglas</td>\n",
       "      <td>DC-3</td>\n",
       "      <td>2</td>\n",
       "    </tr>\n",
       "    <tr>\n",
       "      <th>4022</th>\n",
       "      <td>Boeing</td>\n",
       "      <td>737-387</td>\n",
       "      <td>2</td>\n",
       "    </tr>\n",
       "    <tr>\n",
       "      <th>4025</th>\n",
       "      <td>Boeing</td>\n",
       "      <td>737-3G7</td>\n",
       "      <td>2</td>\n",
       "    </tr>\n",
       "    <tr>\n",
       "      <th>13042</th>\n",
       "      <td>Mcdonnell Douglas</td>\n",
       "      <td>DC-10-15</td>\n",
       "      <td>2</td>\n",
       "    </tr>\n",
       "    <tr>\n",
       "      <th>13041</th>\n",
       "      <td>Mcdonnell Douglas</td>\n",
       "      <td>DC-10-10F</td>\n",
       "      <td>2</td>\n",
       "    </tr>\n",
       "    <tr>\n",
       "      <th>4031</th>\n",
       "      <td>Boeing</td>\n",
       "      <td>737-3T0</td>\n",
       "      <td>2</td>\n",
       "    </tr>\n",
       "    <tr>\n",
       "      <th>12917</th>\n",
       "      <td>Mayers</td>\n",
       "      <td>SEA REY</td>\n",
       "      <td>2</td>\n",
       "    </tr>\n",
       "    <tr>\n",
       "      <th>13035</th>\n",
       "      <td>Mcdonnell Douglas</td>\n",
       "      <td>DC 10-10</td>\n",
       "      <td>2</td>\n",
       "    </tr>\n",
       "    <tr>\n",
       "      <th>4034</th>\n",
       "      <td>Boeing</td>\n",
       "      <td>737-49R</td>\n",
       "      <td>2</td>\n",
       "    </tr>\n",
       "    <tr>\n",
       "      <th>13031</th>\n",
       "      <td>Mcdonnell Douglas</td>\n",
       "      <td>520N</td>\n",
       "      <td>2</td>\n",
       "    </tr>\n",
       "    <tr>\n",
       "      <th>13030</th>\n",
       "      <td>Mcdonnell Douglas</td>\n",
       "      <td>500N</td>\n",
       "      <td>2</td>\n",
       "    </tr>\n",
       "    <tr>\n",
       "      <th>13025</th>\n",
       "      <td>Mcdonnell Douglas</td>\n",
       "      <td>500</td>\n",
       "      <td>2</td>\n",
       "    </tr>\n",
       "    <tr>\n",
       "      <th>4045</th>\n",
       "      <td>Boeing</td>\n",
       "      <td>737-790</td>\n",
       "      <td>2</td>\n",
       "    </tr>\n",
       "    <tr>\n",
       "      <th>4049</th>\n",
       "      <td>Boeing</td>\n",
       "      <td>737-823</td>\n",
       "      <td>2</td>\n",
       "    </tr>\n",
       "    <tr>\n",
       "      <th>4065</th>\n",
       "      <td>Boeing</td>\n",
       "      <td>747-130</td>\n",
       "      <td>2</td>\n",
       "    </tr>\n",
       "    <tr>\n",
       "      <th>4069</th>\n",
       "      <td>Boeing</td>\n",
       "      <td>747-151</td>\n",
       "      <td>2</td>\n",
       "    </tr>\n",
       "    <tr>\n",
       "      <th>12939</th>\n",
       "      <td>Mbb</td>\n",
       "      <td>BK-117A-1</td>\n",
       "      <td>2</td>\n",
       "    </tr>\n",
       "    <tr>\n",
       "      <th>12928</th>\n",
       "      <td>Mbb</td>\n",
       "      <td>BK 117 B-1</td>\n",
       "      <td>2</td>\n",
       "    </tr>\n",
       "    <tr>\n",
       "      <th>12927</th>\n",
       "      <td>Mbb</td>\n",
       "      <td>BK 117 A-4</td>\n",
       "      <td>2</td>\n",
       "    </tr>\n",
       "    <tr>\n",
       "      <th>9</th>\n",
       "      <td>2021FX3 LLC</td>\n",
       "      <td>CCX-2000</td>\n",
       "      <td>2</td>\n",
       "    </tr>\n",
       "  </tbody>\n",
       "</table>\n",
       "</div>"
      ],
      "text/plain": [
       "                    Make       Model  Number_of_accidents\n",
       "4114              Boeing    747SP-21                    2\n",
       "4116              Boeing          75                    2\n",
       "4130              Boeing   757-24APF                    2\n",
       "12857              Maule     M4-220C                    2\n",
       "4137              Boeing     757-33N                    2\n",
       "12848              Maule     M-7-260                    2\n",
       "4138              Boeing         75A                    2\n",
       "4143              Boeing     767-201                    2\n",
       "4146              Boeing     767-223                    2\n",
       "4149              Boeing     767-231                    2\n",
       "4150              Boeing   767-231ER                    2\n",
       "4166              Boeing   767-322ER                    2\n",
       "12839              Maule   M-5-235-C                    2\n",
       "4168              Boeing   767-323ER                    2\n",
       "12836              Maule   M-5-210TC                    2\n",
       "12830              Maule     M-5-180                    2\n",
       "4194              Boeing      A 75N1                    2\n",
       "12734           Manville  AVID FLYER                    2\n",
       "12696   MXR TECHNOLOGIES         MX2                    2\n",
       "12894              Maule     MX7-235                    2\n",
       "12900              Maule   MXT-7-180                    2\n",
       "12916             Mayala   DRAGONFLY                    2\n",
       "4028              Boeing     737-3M8                    2\n",
       "3977              Boeing     727-30C                    2\n",
       "13072  Mcdonnell Douglas     DC-9-50                    2\n",
       "3993              Boeing     737-204                    2\n",
       "4004              Boeing     737-282                    2\n",
       "4013              Boeing    737-2X6C                    2\n",
       "4021              Boeing     737-347                    2\n",
       "13055  Mcdonnell Douglas     DC-8-63                    2\n",
       "13048  Mcdonnell Douglas        DC-3                    2\n",
       "4022              Boeing     737-387                    2\n",
       "4025              Boeing     737-3G7                    2\n",
       "13042  Mcdonnell Douglas    DC-10-15                    2\n",
       "13041  Mcdonnell Douglas   DC-10-10F                    2\n",
       "4031              Boeing     737-3T0                    2\n",
       "12917             Mayers     SEA REY                    2\n",
       "13035  Mcdonnell Douglas    DC 10-10                    2\n",
       "4034              Boeing     737-49R                    2\n",
       "13031  Mcdonnell Douglas        520N                    2\n",
       "13030  Mcdonnell Douglas        500N                    2\n",
       "13025  Mcdonnell Douglas         500                    2\n",
       "4045              Boeing     737-790                    2\n",
       "4049              Boeing     737-823                    2\n",
       "4065              Boeing     747-130                    2\n",
       "4069              Boeing     747-151                    2\n",
       "12939                Mbb   BK-117A-1                    2\n",
       "12928                Mbb  BK 117 B-1                    2\n",
       "12927                Mbb  BK 117 A-4                    2\n",
       "9            2021FX3 LLC    CCX-2000                    2"
      ]
     },
     "execution_count": 164,
     "metadata": {},
     "output_type": "execute_result"
    }
   ],
   "source": [
    "# Count number of accidents per make and model\n",
    "accidents_per_make_model = Aviation_accidents_df.groupby(['Make', 'Model']).size().reset_index(name='Number_of_accidents')\n",
    "filtered_accidents = accidents_per_make_model[accidents_per_make_model['Number_of_accidents'] > 1] #Check for aircrafts which have 50 accidents or more\n",
    "\n",
    "# Sort to see lowest number of accidents first\n",
    "accidents_by_make_model = filtered_accidents.sort_values(by= 'Number_of_accidents', ascending= False)\n",
    "\n",
    "# Check the bottom 50 makes and models with the least number of accidents\n",
    "accidents_by_make_model.tail(50)"
   ]
  },
  {
   "cell_type": "markdown",
   "metadata": {},
   "source": [
    "Most of the aircrafts we see above all have only experienced a small number of accident.This could be because of low usage.The may have fewer fleets, and one thing to note is that a widely used aircraft with many accidents could still be safer than a rare aircraft with just a few incidents."
   ]
  },
  {
   "cell_type": "code",
   "execution_count": null,
   "metadata": {},
   "outputs": [
    {
     "data": {
      "image/png": "[encoded data removed]",
      "text/plain": [
       "<Figure size 864x432 with 1 Axes>"
      ]
     },
     "metadata": {
      "needs_background": "light"
     },
     "output_type": "display_data"
    }
   ],
   "source": [
    "Aviation_accidents_df['Year'] = Aviation_accidents_df['Event.Date'].dt.year # Extracts the year from the 'Event.Date' Column and stores the years in a new column 'Year' \n",
    "accidents_per_year = Aviation_accidents_df.groupby('Year').size()  # Count accidents per year\n",
    "\n",
    "plt.figure(figsize=(12, 6))\n",
    "plt.plot(accidents_per_year, marker='o', linestyle='-')  # Plot a line graph of number of accidents over time(years)\n",
    "plt.xlabel(\"Year\")\n",
    "plt.ylabel(\"Number of Accidents\")\n",
    "plt.title(\"Aircraft Accidents Trend Over Time\")\n",
    "plt.grid()\n",
    "plt.show()\n"
   ]
  },
  {
   "cell_type": "markdown",
   "metadata": {},
   "source": [
    "according to the line graph above,it seems we have years prior where data was not recorded as much.Lets investigate below to be sure."
   ]
  },
  {
   "cell_type": "code",
   "execution_count": 84,
   "metadata": {},
   "outputs": [
    {
     "name": "stdout",
     "output_type": "stream",
     "text": [
      "1948       1\n",
      "1962       1\n",
      "1974       1\n",
      "1977       1\n",
      "1979       2\n",
      "1981       1\n",
      "1982    3573\n",
      "1983    3556\n",
      "1984    3456\n",
      "1985    3096\n",
      "1986    2879\n",
      "1987    2828\n",
      "1988    2730\n",
      "1989    2543\n",
      "1990    2517\n",
      "1991    2462\n",
      "1992    2352\n",
      "1993    2313\n",
      "1994    2256\n",
      "1995    2308\n",
      "1996    2187\n",
      "1997    2148\n",
      "1998    2224\n",
      "1999    2208\n",
      "2000    2218\n",
      "2001    2060\n",
      "2002    2020\n",
      "2003    2080\n",
      "2004    1951\n",
      "2005    2029\n",
      "2006    1848\n",
      "2007    2010\n",
      "2008    1887\n",
      "2009    1770\n",
      "2010    1778\n",
      "2011    1842\n",
      "2012    1819\n",
      "2013    1557\n",
      "2014    1534\n",
      "2015    1581\n",
      "2016    1663\n",
      "2017    1638\n",
      "2018    1681\n",
      "2019    1624\n",
      "2020    1392\n",
      "2021    1545\n",
      "2022    1607\n",
      "Name: Year, dtype: int64\n"
     ]
    }
   ],
   "source": [
    "# Count accidents per year again\n",
    "accidents_per_year = Aviation_accidents_df['Year'].value_counts().sort_index()# Counts and sorts accidents per year in ascending order\n",
    "print(accidents_per_year.tail(50))  # Show the last 50 years of data\n"
   ]
  },
  {
   "cell_type": "markdown",
   "metadata": {},
   "source": [
    "We are correct,data was not filled as much prior to 1982.We can consider data or values prior to 1982 as outliers.What we can do is filter the data to only work with data starting from 1982 onwards to get a clearer graph."
   ]
  },
  {
   "cell_type": "code",
   "execution_count": null,
   "metadata": {},
   "outputs": [
    {
     "data": {
      "image/png": "[encoded data removed]",
      "text/plain": [
       "<Figure size 864x432 with 1 Axes>"
      ]
     },
     "metadata": {
      "needs_background": "light"
     },
     "output_type": "display_data"
    }
   ],
   "source": [
    "filtered_df = Aviation_accidents_df[Aviation_accidents_df['Year'] >= 1982]# Filter data from 1982 onwards\n",
    "\n",
    "accidents_per_year = filtered_df.groupby('Year').size()# Count accidents per year\n",
    "\n",
    "# Plot line graph\n",
    "plt.figure(figsize=(12, 6))\n",
    "plt.plot(accidents_per_year, marker='o', linestyle='-', color='b', label=\"Accidents\")\n",
    "plt.axvline(1982, color='r', linestyle='--', label=\"Uniform Reporting Begins\") # draws a vertical line at a stated x-axis position.\n",
    "plt.xlabel(\"Year\")\n",
    "plt.ylabel(\"Number of Accidents\")\n",
    "plt.title(\"Aircraft Accidents Trend Over Time (From 1982)\")\n",
    "plt.legend()\n",
    "plt.grid()\n",
    "plt.show()\n"
   ]
  },
  {
   "cell_type": "markdown",
   "metadata": {},
   "source": [
    "As seen in the graph above there a donward trend in aircraft accidents meaning that over the years aviation safety is improving.The year 2020 showed the lowest number of aviation accidents mainly because of the travel restrictions enforced during the COVID-19 Pandemic."
   ]
  }
 ],
 "metadata": {
  "kernelspec": {
   "display_name": "learn-env",
   "language": "python",
   "name": "python3"
  },
  "language_info": {
   "codemirror_mode": {
    "name": "ipython",
    "version": 3
   },
   "file_extension": ".py",
   "mimetype": "text/x-python",
   "name": "python",
   "nbconvert_exporter": "python",
   "pygments_lexer": "ipython3",
   "version": "3.8.5"
  }
 },
 "nbformat": 4,
 "nbformat_minor": 2
}
